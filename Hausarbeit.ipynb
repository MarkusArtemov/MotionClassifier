{
 "cells": [
  {
   "cell_type": "markdown",
   "id": "4157f9d8-931b-4e1f-9303-251f12eb91bc",
   "metadata": {},
   "source": [
    "Imports aus der Vorlesung genommen (nicht sicher ob wir alles brauchen)"
   ]
  },
  {
   "cell_type": "code",
   "execution_count": null,
   "id": "7fc7ea18-76b3-4ded-9cc3-648319f146c9",
   "metadata": {
    "tags": []
   },
   "outputs": [],
   "source": [
    "import os\n",
    "import numpy as np\n",
    "import pandas as pd\n",
    "\n",
    "from scipy.signal import butter, filtfilt\n",
    "from scipy import stats\n",
    "from scipy.interpolate import interp1d\n",
    "\n",
    "import plotly.graph_objects as go\n",
    "from plotly.subplots import make_subplots\n",
    "import matplotlib.pyplot as plt\n",
    "\n",
    "from sklearn.tree import DecisionTreeClassifier, plot_tree, export_text\n",
    "from sklearn.model_selection import train_test_split\n",
    "from sklearn.metrics import accuracy_score\n"
   ]
  },
  {
   "cell_type": "markdown",
   "id": "ffde4087-a64d-429b-b2bf-545ba36888fb",
   "metadata": {},
   "source": [
    "Daten laden"
   ]
  },
  {
   "cell_type": "code",
   "execution_count": null,
   "id": "718a8f5d",
   "metadata": {
    "tags": []
   },
   "outputs": [],
   "source": [
    "# Laden aller Daten aus dem Ordner: 'csv_data'\n",
    "def load_csv_data(folder_name):\n",
    "    data = {}\n",
    "    csv_folder = os.path.join(os.getcwd(), folder_name)\n",
    "\n",
    "    if not os.path.exists(csv_folder):\n",
    "        print(f\"Error: The folder '{csv_folder}' was not found.\")\n",
    "        return data\n",
    "    \n",
    "    for file in os.listdir(csv_folder):\n",
    "        if file.endswith('.csv'):\n",
    "            file_path = os.path.join(csv_folder, file)\n",
    "            try:\n",
    "                filename = file.replace('.csv', '')\n",
    "                data[filename] = pd.read_csv(file_path, delimiter=',')\n",
    "            except Exception as e:\n",
    "                print(f\"Error reading {file}: {e}\")\n",
    "\n",
    "    return data\n"
   ]
  },
  {
   "cell_type": "code",
   "execution_count": null,
   "id": "86f06f88",
   "metadata": {
    "tags": []
   },
   "outputs": [],
   "source": [
    "data = load_csv_data('csv_data')\n",
    "print(data.keys())\n",
    "\n",
    "try:\n",
    "    acc_jp = data['Linear_Acceleration_Jump']\n",
    "    acc_sq = data['Linear_Acceleration_Squat']\n",
    "    gyr_jp = data['Gyroscope_Jump']\n",
    "    gyr_sq = data['Gyroscope_Squat']\n",
    "except KeyError as e:\n",
    "    print(f\"Key not found: {e}\")\n"
   ]
  },
  {
   "cell_type": "markdown",
   "id": "0f6d38c5-14b5-49a5-a014-059c9f7762d1",
   "metadata": {},
   "source": [
    "Funktion zum Plotten"
   ]
  },
  {
   "cell_type": "code",
   "execution_count": null,
   "id": "2340d498",
   "metadata": {
    "tags": []
   },
   "outputs": [],
   "source": [
    "def compare_acc_gyr(acc_df,gyr_df):\n",
    "    fig = make_subplots(rows=3, cols=1, shared_xaxes=True, subplot_titles=('Accelerometer', 'Gyroscope'), vertical_spacing=0.1, row_heights=[3, 3, 3])\n",
    "    # Subplot 1: Accelerometer-Daten\n",
    "    fig.add_trace(go.Scatter(x=acc_df['Time (s)'], y=acc_df['Linear Acceleration x (m/s^2)'], name='Accel X'))\n",
    "    fig.add_trace(go.Scatter(x=acc_df['Time (s)'], y=acc_df['Linear Acceleration y (m/s^2)'], name='Accel Y'))\n",
    "    fig.add_trace(go.Scatter(x=acc_df['Time (s)'], y=acc_df['Linear Acceleration z (m/s^2)'], name='Accel Z'))\n",
    "\n",
    "    # Subplot 2: Gyroscope-Daten\n",
    "    fig.add_trace(go.Scatter(x=gyr_df['Time (s)'], y=gyr_df['Gyroscope x (rad/s)'], mode='lines+markers', marker=dict(size=4), name='Gyr X'), row=2, col=1)\n",
    "    fig.add_trace(go.Scatter(x=gyr_df['Time (s)'], y=gyr_df['Gyroscope y (rad/s)'], mode='lines+markers', marker=dict(size=4), name='Gyr Y'), row=2, col=1)\n",
    "    fig.add_trace(go.Scatter(x=gyr_df['Time (s)'], y=gyr_df['Gyroscope z (rad/s)'], mode='lines+markers', marker=dict(size=4), name='Gyr Z'), row=2, col=1)\n",
    "\n",
    "    # Aktualisiere Layout und Labels\n",
    "    fig.update_layout(\n",
    "                    xaxis_title='Zeit (s)',\n",
    "                    yaxis_title='Wert',\n",
    "                    legend_title='Achse',\n",
    "                    height=800, width=1000)\n",
    "    fig.show()"
   ]
  },
  {
   "cell_type": "markdown",
   "id": "ff905b5e",
   "metadata": {},
   "source": [
    "Plotten Springen"
   ]
  },
  {
   "cell_type": "code",
   "execution_count": null,
   "id": "39f56703",
   "metadata": {
    "tags": []
   },
   "outputs": [],
   "source": [
    "compare_acc_gyr(acc_jp,gyr_jp)"
   ]
  },
  {
   "cell_type": "markdown",
   "id": "81012c6e",
   "metadata": {},
   "source": [
    "Plotten Kniebeuge"
   ]
  },
  {
   "cell_type": "code",
   "execution_count": null,
   "id": "e56d0325-a028-43e0-b0b6-9407d7854298",
   "metadata": {
    "tags": []
   },
   "outputs": [],
   "source": [
    "compare_acc_gyr(acc_sq,gyr_sq)"
   ]
  },
  {
   "cell_type": "code",
   "execution_count": null,
   "id": "92e16edd",
   "metadata": {
    "tags": []
   },
   "outputs": [],
   "source": [
    "def plot_frequencies(dataframe):\n",
    "    plt.figure(figsize=(15, 5))\n",
    "\n",
    "    filtered_df = dataframe.drop(columns=['Time (s)'])\n",
    "\n",
    "    num_columns = len(filtered_df.columns)\n",
    "    for i, column in enumerate(filtered_df.columns, 1):\n",
    "        dataframe_col = filtered_df[column]\n",
    "        dft = np.fft.fft(dataframe_col)\n",
    "        frequencies = np.fft.fftfreq(len(dataframe_col))\n",
    "        amplitudes = np.abs(dft)\n",
    "\n",
    "        positive_indices = np.where(frequencies > 0)\n",
    "        \n",
    "        positive_frequencies = frequencies[positive_indices]\n",
    "        positive_amplitudes = amplitudes[positive_indices]\n",
    "\n",
    "        plt.subplot(1, num_columns, i)\n",
    "        plt.plot(positive_frequencies, positive_amplitudes)\n",
    "        plt.xlabel('Frequency (Hz)')\n",
    "        plt.ylabel('Amplitude')\n",
    "        plt.title(f\"Frequency {column}\")\n",
    "\n",
    "    plt.tight_layout()\n",
    "    plt.show()"
   ]
  },
  {
   "cell_type": "code",
   "execution_count": null,
   "id": "6a67a037",
   "metadata": {
    "tags": []
   },
   "outputs": [],
   "source": [
    "plot_frequencies(acc_jp)"
   ]
  },
  {
   "cell_type": "code",
   "execution_count": null,
   "id": "122b0960",
   "metadata": {
    "tags": []
   },
   "outputs": [],
   "source": [
    "plot_frequencies(acc_sq)"
   ]
  },
  {
   "cell_type": "code",
   "execution_count": null,
   "id": "2f26d597",
   "metadata": {
    "tags": []
   },
   "outputs": [],
   "source": [
    "plot_frequencies(gyr_jp)"
   ]
  },
  {
   "cell_type": "code",
   "execution_count": null,
   "id": "c64815d0",
   "metadata": {
    "tags": []
   },
   "outputs": [],
   "source": [
    "plot_frequencies(gyr_sq)"
   ]
  },
  {
   "cell_type": "markdown",
   "id": "c5b2dd85",
   "metadata": {},
   "source": [
    "### Filtern der Frequenzen"
   ]
  },
  {
   "cell_type": "markdown",
   "id": "0752870e",
   "metadata": {},
   "source": [
    "In den Plots ist erkennbar, dass der Großteil der Daten sich im Bereich bis 0,3 Hz befindet. Dies deutet darauf hin, dass \n",
    "die wesentlichen Bewegungsinformationen für Aktivitäten wie Kniebeugen und Sprünge in diesem niedrigen Frequenzbereich liegen.\n",
    "Bei Kniebeugen und Sprüngen handelt es sich um relativ langsame Bewegungen, die durch größere, kontrollierte Muskelbewegungen\n",
    "gekennzeichnet sind, im Gegensatz zu schnellen, feinen Bewegungen. Die niedrigeren Frequenzen repräsentieren diese langsameren,\n",
    "großformatigen Bewegungen besser, während höhere Frequenzen tendenziell schnelle, kleine oder zufällige Bewegungen darstellen,\n",
    "die möglicherweise als Rauschen betrachtet werden können."
   ]
  },
  {
   "cell_type": "code",
   "execution_count": null,
   "id": "2824a347",
   "metadata": {
    "tags": []
   },
   "outputs": [],
   "source": [
    "def filter_frequency(dataframe):\n",
    "    # Kopie des DataFrames erstellen\n",
    "    filtered_dataframe = dataframe.copy()\n",
    "\n",
    "    # Festlegen der Cutoff-Frequenz und der Filterordnung\n",
    "    filter_order = 4 \n",
    "    high_cutoff = 0.3\n",
    "\n",
    "    # Butterworth Hochpassfilter erstellen\n",
    "    b, a = butter(filter_order, high_cutoff, btype='high', analog=False, fs=100)\n",
    "\n",
    "    # Schleife über alle Spalten außer 'Time (s)'\n",
    "    for column in dataframe.columns:\n",
    "        if column != 'Time (s)':\n",
    "            # Hochpassfilter auf die Signalreihe anwenden\n",
    "            filtered_signal = filtfilt(b, a, dataframe[column])\n",
    "            filtered_dataframe[column] = filtered_signal\n",
    "\n",
    "    return filtered_dataframe"
   ]
  },
  {
   "cell_type": "code",
   "execution_count": null,
   "id": "8ca00fd0",
   "metadata": {
    "tags": []
   },
   "outputs": [],
   "source": [
    "filtered_acc_jp = filter_frequency(acc_jp)\n",
    "filtered_acc_sq = filter_frequency(acc_sq)\n",
    "filtered_gyr_jp = filter_frequency(gyr_jp)\n",
    "filtered_gyr_sq = filter_frequency(gyr_sq)"
   ]
  },
  {
   "cell_type": "code",
   "execution_count": null,
   "id": "6f9f3f14",
   "metadata": {
    "tags": []
   },
   "outputs": [],
   "source": [
    "compare_acc_gyr(filtered_acc_jp,filtered_gyr_jp)"
   ]
  },
  {
   "cell_type": "code",
   "execution_count": null,
   "id": "000bef6a",
   "metadata": {
    "tags": []
   },
   "outputs": [],
   "source": [
    "compare_acc_gyr(filtered_acc_sq,filtered_gyr_sq)"
   ]
  },
  {
   "cell_type": "markdown",
   "id": "fe7f5bd1-65a3-4695-8c5f-a3410045ed5c",
   "metadata": {},
   "source": [
    "Ausreißer Eliminieren"
   ]
  },
  {
   "cell_type": "code",
   "execution_count": null,
   "id": "cca853ac",
   "metadata": {
    "tags": []
   },
   "outputs": [],
   "source": [
    "# Berechnung der Z-Scores für jede Spalte\n",
    "filtered_dataframe_jp = filtered_gyr_jp.copy()\n",
    "filtered_dataframe_jp['Z_Score_X'] = stats.zscore(filtered_gyr_jp['Gyroscope x (rad/s)'])\n",
    "filtered_dataframe_jp['Z_Score_Y'] = stats.zscore(filtered_gyr_jp['Gyroscope y (rad/s)'])\n",
    "filtered_dataframe_jp['Z_Score_Z'] = stats.zscore(filtered_gyr_jp['Gyroscope z (rad/s)'])\n",
    "\n",
    "filtered_dataframe_acc_jp = filtered_acc_jp.copy()\n",
    "filtered_dataframe_acc_jp['Z_Score_X'] = stats.zscore(filtered_acc_jp['Linear Acceleration x (m/s^2)'])\n",
    "filtered_dataframe_acc_jp['Z_Score_Y'] = stats.zscore(filtered_acc_jp['Linear Acceleration y (m/s^2)'])\n",
    "filtered_dataframe_acc_jp['Z_Score_Z'] = stats.zscore(filtered_acc_jp['Linear Acceleration z (m/s^2)'])\n",
    "\n",
    "# Festlegen eines Schwellenwerts für Z-Scores, ab dem ein Punkt als Ausreißer betrachtet wird\n",
    "z_score_threshold = 3  # Bei Bedarf anpassen\n",
    "\n",
    "# Filtern der Ausreißer aus dem dataframeFrame (nur wenn alle drei Achsen unterhalb des THreshold liegen sind Daten ok)\n",
    "filtered_dataframe_jp = filtered_dataframe_jp[(abs(filtered_dataframe_jp['Z_Score_X']) <= z_score_threshold) &\n",
    "                     (abs(filtered_dataframe_jp['Z_Score_Y']) <= z_score_threshold) &\n",
    "                     (abs(filtered_dataframe_jp['Z_Score_Z']) <= z_score_threshold)]\n",
    "\n",
    "\n",
    "filtered_dataframe_acc_jp = filtered_dataframe_acc_jp[(abs(filtered_dataframe_acc_jp['Z_Score_X']) <= z_score_threshold) &\n",
    "                     (abs(filtered_dataframe_acc_jp['Z_Score_Y']) <= z_score_threshold) &\n",
    "                     (abs(filtered_dataframe_acc_jp['Z_Score_Z']) <= z_score_threshold)]\n"
   ]
  },
  {
   "cell_type": "code",
   "execution_count": null,
   "id": "4631543d-17b3-462d-b86d-9aaacfc384ef",
   "metadata": {
    "tags": []
   },
   "outputs": [],
   "source": [
    "# Extrahieren der Zeitstempel und Spalten für das Plotten\n",
    "time = gyr_jp['Time (s)']\n",
    "gyr_x = gyr_jp['Gyroscope x (rad/s)']\n",
    "gyr_y = gyr_jp['Gyroscope y (rad/s)']\n",
    "gyr_z = gyr_jp['Gyroscope z (rad/s)']\n",
    "\n",
    "gyro_jp_time_filtered = filtered_dataframe_jp['Time (s)']\n",
    "gyro_jp_x_filtered = filtered_dataframe_jp['Gyroscope x (rad/s)']\n",
    "gyro_jp_y_filtered = filtered_dataframe_jp['Gyroscope y (rad/s)']\n",
    "gyro_jp_z_filtered = filtered_dataframe_jp['Gyroscope z (rad/s)']\n",
    "\n",
    "acc_jp_time_filtered = filtered_dataframe_acc_jp['Time (s)']\n",
    "acc_jp_x_filtered = filtered_dataframe_acc_jp['Linear Acceleration x (m/s^2)']\n",
    "acc_jp_y_filtered = filtered_dataframe_acc_jp['Linear Acceleration y (m/s^2)']\n",
    "acc_jp_z_filtered = filtered_dataframe_acc_jp['Linear Acceleration z (m/s^2)']\n",
    "\n",
    "# Plotten der Daten\n",
    "plt.figure(figsize=(10, 6))\n",
    "\n",
    "\"\"\"\n",
    "plt.subplot(2, 1, 1)\n",
    "plt.plot(time, gyr_x, label='Gyroscope X Axis')\n",
    "plt.plot(time, gyr_y, label='Gyroscope Y Axis')\n",
    "plt.plot(time, gyr_z, label='Gyroscope Z Axis')\n",
    "plt.xlabel('Time (s)')\n",
    "plt.ylabel('Rohdaten (m/s^2)')\n",
    "plt.legend()\n",
    "\"\"\"\n",
    "plt.subplot(2, 1, 2)\n",
    "plt.plot(gyro_jp_time_filtered, gyro_jp_x_filtered, label='Filtered Gyro X')\n",
    "plt.plot(gyro_jp_time_filtered, gyro_jp_y_filtered, label='Filtered Gyro Y')\n",
    "plt.plot(gyro_jp_time_filtered, gyro_jp_z_filtered, label='Filtered Gyro z')\n",
    "plt.xlabel('Time (s)')\n",
    "plt.ylabel('Daten Gyro Springen gefiltert')\n",
    "plt.legend()\n",
    "\n",
    "plt.subplot(2, 1, 2)\n",
    "plt.plot(acc_jp_time_filtered, acc_jp_x_filtered, label='Filtered Accel X')\n",
    "plt.plot(acc_jp_time_filtered, acc_jp_y_filtered, label='Filtered Accel Y')\n",
    "plt.plot(acc_jp_time_filtered, acc_jp_z_filtered, label='Filtered Accel Z')\n",
    "plt.xlabel('Time (s)')\n",
    "plt.ylabel('Daten Acceleration Springen gefiltert')\n",
    "plt.legend()\n",
    "\n",
    "plt.tight_layout()\n",
    "plt.show()\n"
   ]
  },
  {
   "cell_type": "code",
   "execution_count": null,
   "id": "c236549a-2b71-4f83-905d-ebde1f6db72b",
   "metadata": {
    "tags": []
   },
   "outputs": [],
   "source": [
    "filtered_dataframe_acc_sq = filtered_acc_sq.copy()\n",
    "filtered_dataframe_acc_sq['Z_Score_X'] = stats.zscore(filtered_acc_sq['Linear Acceleration x (m/s^2)'])\n",
    "filtered_dataframe_acc_sq['Z_Score_Y'] = stats.zscore(filtered_acc_sq['Linear Acceleration y (m/s^2)'])\n",
    "filtered_dataframe_acc_sq['Z_Score_Z'] = stats.zscore(filtered_acc_sq['Linear Acceleration z (m/s^2)'])\n",
    "\n",
    "filtered_dataframe_sq = filtered_gyr_sq.copy()\n",
    "filtered_dataframe_sq['Z_Score_X'] = stats.zscore(filtered_gyr_sq['Gyroscope x (rad/s)'])\n",
    "filtered_dataframe_sq['Z_Score_Y'] = stats.zscore(filtered_gyr_sq['Gyroscope y (rad/s)'])\n",
    "filtered_dataframe_sq['Z_Score_Z'] = stats.zscore(filtered_gyr_sq['Gyroscope z (rad/s)'])\n",
    "\n",
    "# Festlegen eines Schwellenwerts für Z-Scores, ab dem ein Punkt als Ausreißer betrachtet wird\n",
    "z_score_threshold = 3  # Bei Bedarf anpassen\n",
    "\n",
    "filtered_dataframe_acc_sq = filtered_dataframe_acc_sq[(abs(filtered_dataframe_acc_sq['Z_Score_X']) <= z_score_threshold) &\n",
    "                     (abs(filtered_dataframe_acc_sq['Z_Score_Y']) <= z_score_threshold) &\n",
    "                     (abs(filtered_dataframe_acc_sq['Z_Score_Z']) <= z_score_threshold)]\n",
    "\n",
    "filtered_dataframe_sq = filtered_dataframe_sq[(abs(filtered_dataframe_sq['Z_Score_X']) <= z_score_threshold) &\n",
    "                     (abs(filtered_dataframe_sq['Z_Score_Y']) <= z_score_threshold) &\n",
    "                     (abs(filtered_dataframe_sq['Z_Score_Z']) <= z_score_threshold)]"
   ]
  },
  {
   "cell_type": "code",
   "execution_count": null,
   "id": "0a44701b-0bb1-4aa6-af0f-a819df15ac36",
   "metadata": {
    "tags": []
   },
   "outputs": [],
   "source": [
    "gyro_sq_time_filtered = filtered_dataframe_sq['Time (s)']\n",
    "gyro_sq_x_filtered = filtered_dataframe_sq['Gyroscope x (rad/s)']\n",
    "gyro_sq_y_filtered = filtered_dataframe_sq['Gyroscope y (rad/s)']\n",
    "gyro_sq_z_filtered = filtered_dataframe_sq['Gyroscope z (rad/s)']\n",
    "\n",
    "acc_sq_time_filtered = filtered_dataframe_acc_sq['Time (s)']\n",
    "acc_sq_x_filtered = filtered_dataframe_acc_sq['Linear Acceleration x (m/s^2)']\n",
    "acc_sq_y_filtered = filtered_dataframe_acc_sq['Linear Acceleration y (m/s^2)']\n",
    "acc_sq_z_filtered = filtered_dataframe_acc_sq['Linear Acceleration z (m/s^2)']\n",
    "\n",
    "# Plotten der Daten\n",
    "plt.figure(figsize=(10, 6))\n",
    "\n",
    "plt.subplot(2, 1, 1)\n",
    "plt.plot(acc_sq_time_filtered, acc_sq_x_filtered, label='Filtered Accel X')\n",
    "plt.plot(acc_sq_time_filtered, acc_sq_y_filtered, label='Filtered Accel Y')\n",
    "plt.plot(acc_sq_time_filtered, acc_sq_z_filtered, label='Filtered Accel Z')\n",
    "plt.xlabel('Time (s)')\n",
    "plt.ylabel('Daten Acceleration Kniebeugen gefiltert')\n",
    "plt.legend()\n",
    "\n",
    "plt.subplot(2, 1, 2)\n",
    "plt.plot(gyro_sq_time_filtered, gyro_sq_x_filtered, label='Filtered Gyro X')\n",
    "plt.plot(gyro_sq_time_filtered, gyro_sq_y_filtered, label='Filtered Gyro Y')\n",
    "plt.plot(gyro_sq_time_filtered, gyro_sq_z_filtered, label='Filtered Gyro z')\n",
    "plt.xlabel('Time (s)')\n",
    "plt.ylabel('Daten Gyro Kniebeugen gefiltert')\n",
    "plt.legend()\n",
    "\n",
    "\n",
    "plt.tight_layout()\n",
    "plt.show()"
   ]
  },
  {
   "cell_type": "markdown",
   "id": "0974804b-76d0-46e8-b2cf-fd0c681bd798",
   "metadata": {},
   "source": [
    "Normalisieren"
   ]
  },
  {
   "cell_type": "code",
   "execution_count": null,
   "id": "1806f8a2-3619-4665-9b8a-0f94f71792b3",
   "metadata": {
    "tags": []
   },
   "outputs": [],
   "source": [
    "from sklearn.preprocessing import MinMaxScaler\n",
    "\n",
    "# Auswählen der Features\n",
    "features_to_scale = ['Gyroscope x (rad/s)', 'Gyroscope y (rad/s)', 'Gyroscope z (rad/s)']\n",
    "\n",
    "# Initialisierung Min-Max Scaler auf gewünschte Werte\n",
    "scaler = MinMaxScaler((-1,1))\n",
    "\n",
    "# Anwendung Min-Max Scaler auf ausgewählte Spalten\n",
    "filtered_dataframe_sq[features_to_scale] = scaler.fit_transform(filtered_dataframe_sq[features_to_scale])\n"
   ]
  },
  {
   "cell_type": "code",
   "execution_count": null,
   "id": "fb6c14c2-3a77-4112-b573-4865a105194c",
   "metadata": {
    "tags": []
   },
   "outputs": [],
   "source": [
    "# Extrahieren der Zeitstempel und Spalten für das Plotten\n",
    "time = filtered_dataframe_sq['Time (s)']\n",
    "gyro_x = filtered_dataframe_sq['Gyroscope x (rad/s)']\n",
    "gyro_y = filtered_dataframe_sq['Gyroscope y (rad/s)']\n",
    "gyro_z = filtered_dataframe_sq['Gyroscope z (rad/s)']\n",
    "\n",
    "# Plotten der Daten\n",
    "plt.figure(figsize=(10, 6))\n",
    "\n",
    "plt.subplot(2, 1, 1)\n",
    "plt.plot(time, gyro_x, label='Gyroscope x')\n",
    "plt.plot(time, gyro_y, label='Gyroscope y')\n",
    "plt.plot(time, gyro_z, label='Gyroscope z')\n",
    "plt.xlabel('Time (s)')\n",
    "plt.ylabel('Daten Gyro Kniebeugen')\n",
    "plt.legend()\n",
    "\n",
    "plt.tight_layout()\n",
    "plt.show()"
   ]
  },
  {
   "cell_type": "code",
   "execution_count": null,
   "id": "f35d6ed9-ebae-4eb1-9614-069b38256d10",
   "metadata": {},
   "outputs": [],
   "source": []
  },
  {
   "cell_type": "code",
   "execution_count": null,
   "id": "3c2e8e51-11d5-4215-bcd6-2da3b16d39b2",
   "metadata": {},
   "outputs": [],
   "source": []
  }
 ],
 "metadata": {
  "kernelspec": {
   "display_name": "Python 3 (ipykernel)",
   "language": "python",
   "name": "python3"
  },
  "language_info": {
   "codemirror_mode": {
    "name": "ipython",
    "version": 3
   },
   "file_extension": ".py",
   "mimetype": "text/x-python",
   "name": "python",
   "nbconvert_exporter": "python",
   "pygments_lexer": "ipython3",
   "version": "3.11.5"
  }
 },
 "nbformat": 4,
 "nbformat_minor": 5
}
