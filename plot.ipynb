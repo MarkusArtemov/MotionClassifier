{
 "cells": [
  {
   "cell_type": "code",
   "execution_count": null,
   "metadata": {},
   "outputs": [],
   "source": [
    "import numpy as np\n",
    "import plotly.graph_objects as go\n",
    "from plotly.subplots import make_subplots"
   ]
  },
  {
   "cell_type": "markdown",
   "metadata": {},
   "source": [
    "**Funktion zum Plotten**<br>\n",
    "Die Funktion compare_acc_gyr erhält Daten aus den Accelerometer- und Gyroscope-DataFrames und plottet diese.<br>\n",
    "Als erstes wird ein neuer subplot erstellt.<br>\n",
    "Danach wird für jede Achse ein Scatter-Plot angelegt.<br>\n",
    "Abschließend wird das Layout des Plots aktualisiert und ausgegeben."
   ]
  },
  {
   "cell_type": "code",
   "execution_count": null,
   "metadata": {},
   "outputs": [],
   "source": [
    "def compare_acc_gyr(acc_df,gyr_df):\n",
    "    fig = make_subplots(rows=3, cols=1, shared_xaxes=True, subplot_titles=('Accelerometer', 'Gyroscope'), vertical_spacing=0.1, row_heights=[3, 3, 3])\n",
    "    # Subplot 1: Accelerometer-Daten\n",
    "    fig.add_trace(go.Scatter(x=acc_df['Time (s)'], y=acc_df['Linear Acceleration x (m/s^2)'], name='Accel X'))\n",
    "    fig.add_trace(go.Scatter(x=acc_df['Time (s)'], y=acc_df['Linear Acceleration y (m/s^2)'], name='Accel Y'))\n",
    "    fig.add_trace(go.Scatter(x=acc_df['Time (s)'], y=acc_df['Linear Acceleration z (m/s^2)'], name='Accel Z'))\n",
    "\n",
    "    # Subplot 2: Gyroscope-Daten\n",
    "    fig.add_trace(go.Scatter(x=gyr_df['Time (s)'], y=gyr_df['Gyroscope x (rad/s)'], marker=dict(size=4), name='Gyr X'), row=2, col=1)\n",
    "    fig.add_trace(go.Scatter(x=gyr_df['Time (s)'], y=gyr_df['Gyroscope y (rad/s)'], marker=dict(size=4), name='Gyr Y'), row=2, col=1)\n",
    "    fig.add_trace(go.Scatter(x=gyr_df['Time (s)'], y=gyr_df['Gyroscope z (rad/s)'], marker=dict(size=4), name='Gyr Z'), row=2, col=1)\n",
    "\n",
    "    # Aktualisiere Layout und Labels\n",
    "    fig.update_layout(\n",
    "                    xaxis_title='Zeit (s)',\n",
    "                    yaxis_title='Wert',\n",
    "                    legend_title='Achse',\n",
    "                    height=800, width=1000)\n",
    "    fig.show()"
   ]
  },
  {
   "cell_type": "markdown",
   "metadata": {},
   "source": [
    "**Fast Fourier Transformation**<br>\n",
    "Die Funktion plot_frequencies nutzt die Fast Fourier Transformation um die Frequenzen von Daten aus dem Dataframe zu analysieren und darzustellen.<br>\n",
    "Es wird ein neuer Plot erstellt.<br>\n",
    "Die Spalte Time (s) wird aus dem Dataframe entfernt da sie für die Frequenzanalyse nicht benötigt wird.<br>\n",
    "Danach wird die Anzahl der verbleibenden Spalten im gefilterten Dataframe ermittelt.<br>\n",
    "Als nächstes wird eine Schleife durchlaufen um die Frequenzanalyse für jede Spalte im Dataframe durchzuführen.<br>\n",
    "Die Amplituden werden normalisiert in dem sie durch den Maximalen Amplitudenwert geteilt werden.<br>\n",
    "Es werden nur die positiven Frequenzen betrachtet und die entsprechenden Werte werden extrahiert.<br>\n",
    "Als letztes werden die einzelnen Subplots erstellt wobei für jede Spalte im Dataframe ein eigener Subplot erstellt wird.<br>\n",
    "Es wird in jedem Subplot die Frequenz gegen die normalisierte Amplitude aufgetragen.<br>\n",
    "Abschließend wird mit tight_layout gewährleistet das die Subplots ordentlich angeordnet sind um Überlappungen zu vermeiden und die Plots werden ausgegeben.<br>"
   ]
  },
  {
   "cell_type": "code",
   "execution_count": null,
   "metadata": {},
   "outputs": [],
   "source": [
    "def plot_frequencies(dataframe):\n",
    "    plt.figure(figsize=(15, 5))\n",
    "\n",
    "    filtered_df = dataframe.drop(columns=['Time (s)'])\n",
    "    num_columns = len(filtered_df.columns)\n",
    "\n",
    "    for i, column in enumerate(filtered_df.columns, 1):\n",
    "        dataframe_col = filtered_df[column]\n",
    "        dft = np.fft.fft(dataframe_col)\n",
    "        frequencies = np.fft.fftfreq(len(dataframe_col))\n",
    "        amplitudes = np.abs(dft)\n",
    "\n",
    "        # Normalisierung der Amplituden\n",
    "        max_amplitude = np.max(amplitudes)\n",
    "        normalized_amplitudes = amplitudes / max_amplitude\n",
    "\n",
    "        # Filtern für positive Frequenzen\n",
    "        positive_indices = np.where(frequencies > 0)\n",
    "        positive_frequencies = frequencies[positive_indices]\n",
    "        positive_normalized_amplitudes = normalized_amplitudes[positive_indices]\n",
    "\n",
    "        # Erstellen der Subplots\n",
    "        plt.subplot(1, num_columns, i)\n",
    "        plt.plot(positive_frequencies, positive_normalized_amplitudes)\n",
    "        plt.xlabel('Frequency (Hz)')\n",
    "        plt.ylabel('Normalized Amplitude')\n",
    "        plt.title(f\"Frequency {column}\")\n",
    "\n",
    "    plt.tight_layout()\n",
    "    plt.show()"
   ]
  },
  {
   "cell_type": "markdown",
   "metadata": {},
   "source": [
    "**Funktion zum Plotten der gefilterten Daten**<br>\n",
    "Die Funktion plot_df nimmt ein Dataframe und gibt am Ende ein Plot aus.<br>\n",
    "Es werden zwei Subplots erstellt um jeweils die Lineare Beschleunigung auf der x und y -Achse des Dataframes zu visiualisieren.<br>\n",
    "Es wird ein weiterer Subplot erstellt um die Daten des Gyroscopes auf der x-Achse zu visiualisieren."
   ]
  },
  {
   "cell_type": "code",
   "execution_count": null,
   "metadata": {},
   "outputs": [],
   "source": [
    "def plot_df(df):\n",
    "    fig = make_subplots(rows=3, cols=1, shared_xaxes=True, subplot_titles=('Accelerometer', 'Gyroscope'), vertical_spacing=0.1, row_heights=[3, 3, 3])\n",
    "    # Subplot 1: Accelerometer-Daten\n",
    "    fig.add_trace(go.Scatter(x=df['Time (s)'], y=df['Linear Acceleration y (m/s^2)'], name='Accel Y'))\n",
    "    fig.add_trace(go.Scatter(x=df['Time (s)'], y=df['Linear Acceleration z (m/s^2)'], name='Accel Z'))\n",
    "\n",
    "    # Subplot 2: Gyroscope-Daten\n",
    "    fig.add_trace(go.Scatter(x=df['Time (s)'], y=df['Gyroscope x (rad/s)'], marker=dict(size=4), name='Gyr X'), row=2, col=1)\n",
    "\n",
    "\n",
    "    # Aktualisiere Layout und Labels\n",
    "    fig.update_layout(\n",
    "                    xaxis_title='Zeit (s)',\n",
    "                    yaxis_title='Wert',\n",
    "                    legend_title='Achse',\n",
    "                    height=800, width=1000)\n",
    "    fig.show()"
   ]
  },
  {
   "cell_type": "code",
   "execution_count": null,
   "metadata": {},
   "outputs": [],
   "source": [
    "def plot_windows_with_data(df, windows):\n",
    "    # Farben für die Fenster in Accel Y definieren\n",
    "    colors = ['blue', 'red', 'green', 'purple', 'orange', 'cyan', 'magenta', 'yellow']\n",
    "\n",
    "    # Erstellen des Plots mit Plotly\n",
    "    fig = make_subplots(rows=3, cols=1, shared_xaxes=True, subplot_titles=('Accel Y', 'Gyro X', 'Accel Z'))\n",
    "\n",
    "    # Hinzufügen der Accelerometer Y-Daten (ohne Peaks)\n",
    "    fig.add_trace(go.Scatter(x=df['Time (s)'], y=df['Linear Acceleration y (m/s^2)'], name='Accel Y', line=dict(color='grey')), row=1, col=1)\n",
    "\n",
    "    # Hervorheben der Fenster in Accel Y mit verschiedenen Farben\n",
    "    for i, window in enumerate(windows):\n",
    "        window_color = colors[i % len(colors)]\n",
    "        fig.add_trace(go.Scatter(x=window['Time (s)'], y=window['Linear Acceleration y (m/s^2)'], mode='lines', line=dict(color=window_color, width=2)), row=1, col=1)\n",
    "\n",
    "    # Hinzufügen der Gyroscope X-Daten\n",
    "    fig.add_trace(go.Scatter(x=df['Time (s)'], y=df['Gyroscope x (rad/s)'], name='Gyro X', line=dict(color='blue')), row=2, col=1)\n",
    "\n",
    "    # Hinzufügen der Linear Acceleration Z-Daten\n",
    "    fig.add_trace(go.Scatter(x=df['Time (s)'], y=df['Linear Acceleration z (m/s^2)'], name='Accel Z', line=dict(color='green')), row=3, col=1)\n",
    "\n",
    "    # Update layout and labels\n",
    "    fig.update_layout(title='Accelerometer Daten mit farblichen Fenstern in Accel Y', xaxis_title='Zeit (s)', height=900, width=1000)\n",
    "    fig.show()\n"
   ]
  }
 ],
 "metadata": {
  "language_info": {
   "name": "python"
  }
 },
 "nbformat": 4,
 "nbformat_minor": 2
}
